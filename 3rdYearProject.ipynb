{
 "cells": [
  {
   "cell_type": "code",
   "execution_count": 1,
   "id": "22bdb7f5",
   "metadata": {},
   "outputs": [],
   "source": [
    "# import all the libraries needed to create the language models and generate text\n",
    "import random\n",
    "import pandas as pd\n",
    "import string\n",
    "from nltk import trigrams, bigrams, ngrams\n",
    "import numpy as np\n",
    "from collections import Counter, defaultdict\n",
    "import matplotlib.pyplot as plt \n",
    "\n",
    "from keras.utils import np_utils\n",
    "from keras.models import Sequential\n",
    "from keras.layers import Dense, Dropout, LSTM"
   ]
  },
  {
   "cell_type": "code",
   "execution_count": 2,
   "id": "6d5bd5b3",
   "metadata": {},
   "outputs": [
    {
     "data": {
      "text/html": [
       "<div>\n",
       "<style scoped>\n",
       "    .dataframe tbody tr th:only-of-type {\n",
       "        vertical-align: middle;\n",
       "    }\n",
       "\n",
       "    .dataframe tbody tr th {\n",
       "        vertical-align: top;\n",
       "    }\n",
       "\n",
       "    .dataframe thead th {\n",
       "        text-align: right;\n",
       "    }\n",
       "</style>\n",
       "<table border=\"1\" class=\"dataframe\">\n",
       "  <thead>\n",
       "    <tr style=\"text-align: right;\">\n",
       "      <th></th>\n",
       "      <th>index</th>\n",
       "      <th>song</th>\n",
       "      <th>year</th>\n",
       "      <th>artist</th>\n",
       "      <th>genre</th>\n",
       "      <th>lyrics</th>\n",
       "    </tr>\n",
       "  </thead>\n",
       "  <tbody>\n",
       "    <tr>\n",
       "      <th>0</th>\n",
       "      <td>0</td>\n",
       "      <td>ego-remix</td>\n",
       "      <td>2009</td>\n",
       "      <td>beyonce-knowles</td>\n",
       "      <td>Pop</td>\n",
       "      <td>Oh baby, how you doing?\\nYou know I'm gonna cu...</td>\n",
       "    </tr>\n",
       "    <tr>\n",
       "      <th>1</th>\n",
       "      <td>1</td>\n",
       "      <td>then-tell-me</td>\n",
       "      <td>2009</td>\n",
       "      <td>beyonce-knowles</td>\n",
       "      <td>Pop</td>\n",
       "      <td>playin' everything so easy,\\nit's like you see...</td>\n",
       "    </tr>\n",
       "    <tr>\n",
       "      <th>2</th>\n",
       "      <td>2</td>\n",
       "      <td>honesty</td>\n",
       "      <td>2009</td>\n",
       "      <td>beyonce-knowles</td>\n",
       "      <td>Pop</td>\n",
       "      <td>If you search\\nFor tenderness\\nIt isn't hard t...</td>\n",
       "    </tr>\n",
       "    <tr>\n",
       "      <th>3</th>\n",
       "      <td>3</td>\n",
       "      <td>you-are-my-rock</td>\n",
       "      <td>2009</td>\n",
       "      <td>beyonce-knowles</td>\n",
       "      <td>Pop</td>\n",
       "      <td>Oh oh oh I, oh oh oh I\\n[Verse 1:]\\nIf I wrote...</td>\n",
       "    </tr>\n",
       "    <tr>\n",
       "      <th>4</th>\n",
       "      <td>4</td>\n",
       "      <td>black-culture</td>\n",
       "      <td>2009</td>\n",
       "      <td>beyonce-knowles</td>\n",
       "      <td>Pop</td>\n",
       "      <td>Party the people, the people the party it's po...</td>\n",
       "    </tr>\n",
       "    <tr>\n",
       "      <th>5</th>\n",
       "      <td>5</td>\n",
       "      <td>all-i-could-do-was-cry</td>\n",
       "      <td>2009</td>\n",
       "      <td>beyonce-knowles</td>\n",
       "      <td>Pop</td>\n",
       "      <td>I heard\\nChurch bells ringing\\nI heard\\nA choi...</td>\n",
       "    </tr>\n",
       "    <tr>\n",
       "      <th>6</th>\n",
       "      <td>6</td>\n",
       "      <td>once-in-a-lifetime</td>\n",
       "      <td>2009</td>\n",
       "      <td>beyonce-knowles</td>\n",
       "      <td>Pop</td>\n",
       "      <td>This is just another day that I would spend\\nW...</td>\n",
       "    </tr>\n",
       "    <tr>\n",
       "      <th>7</th>\n",
       "      <td>7</td>\n",
       "      <td>waiting</td>\n",
       "      <td>2009</td>\n",
       "      <td>beyonce-knowles</td>\n",
       "      <td>Pop</td>\n",
       "      <td>Waiting, waiting, waiting, waiting\\nWaiting, w...</td>\n",
       "    </tr>\n",
       "    <tr>\n",
       "      <th>8</th>\n",
       "      <td>8</td>\n",
       "      <td>slow-love</td>\n",
       "      <td>2009</td>\n",
       "      <td>beyonce-knowles</td>\n",
       "      <td>Pop</td>\n",
       "      <td>[Verse 1:]\\nI read all of the magazines\\nwhile...</td>\n",
       "    </tr>\n",
       "    <tr>\n",
       "      <th>9</th>\n",
       "      <td>9</td>\n",
       "      <td>why-don-t-you-love-me</td>\n",
       "      <td>2009</td>\n",
       "      <td>beyonce-knowles</td>\n",
       "      <td>Pop</td>\n",
       "      <td>N-n-now, honey\\nYou better sit down and look a...</td>\n",
       "    </tr>\n",
       "  </tbody>\n",
       "</table>\n",
       "</div>"
      ],
      "text/plain": [
       "   index                    song  year           artist genre  \\\n",
       "0      0               ego-remix  2009  beyonce-knowles   Pop   \n",
       "1      1            then-tell-me  2009  beyonce-knowles   Pop   \n",
       "2      2                 honesty  2009  beyonce-knowles   Pop   \n",
       "3      3         you-are-my-rock  2009  beyonce-knowles   Pop   \n",
       "4      4           black-culture  2009  beyonce-knowles   Pop   \n",
       "5      5  all-i-could-do-was-cry  2009  beyonce-knowles   Pop   \n",
       "6      6      once-in-a-lifetime  2009  beyonce-knowles   Pop   \n",
       "7      7                 waiting  2009  beyonce-knowles   Pop   \n",
       "8      8               slow-love  2009  beyonce-knowles   Pop   \n",
       "9      9   why-don-t-you-love-me  2009  beyonce-knowles   Pop   \n",
       "\n",
       "                                              lyrics  \n",
       "0  Oh baby, how you doing?\\nYou know I'm gonna cu...  \n",
       "1  playin' everything so easy,\\nit's like you see...  \n",
       "2  If you search\\nFor tenderness\\nIt isn't hard t...  \n",
       "3  Oh oh oh I, oh oh oh I\\n[Verse 1:]\\nIf I wrote...  \n",
       "4  Party the people, the people the party it's po...  \n",
       "5  I heard\\nChurch bells ringing\\nI heard\\nA choi...  \n",
       "6  This is just another day that I would spend\\nW...  \n",
       "7  Waiting, waiting, waiting, waiting\\nWaiting, w...  \n",
       "8  [Verse 1:]\\nI read all of the magazines\\nwhile...  \n",
       "9  N-n-now, honey\\nYou better sit down and look a...  "
      ]
     },
     "execution_count": 2,
     "metadata": {},
     "output_type": "execute_result"
    }
   ],
   "source": [
    "# read the dataset file and show the first 10 rows\n",
    "df = pd.read_csv(\"lyrics.csv\")\n",
    "df.head(10)"
   ]
  },
  {
   "cell_type": "code",
   "execution_count": 3,
   "id": "77a909bd",
   "metadata": {},
   "outputs": [
    {
     "name": "stdout",
     "output_type": "stream",
     "text": [
      "<class 'pandas.core.frame.DataFrame'>\n",
      "RangeIndex: 362237 entries, 0 to 362236\n",
      "Data columns (total 6 columns):\n",
      " #   Column  Non-Null Count   Dtype \n",
      "---  ------  --------------   ----- \n",
      " 0   index   362237 non-null  int64 \n",
      " 1   song    362235 non-null  object\n",
      " 2   year    362237 non-null  int64 \n",
      " 3   artist  362237 non-null  object\n",
      " 4   genre   362237 non-null  object\n",
      " 5   lyrics  266557 non-null  object\n",
      "dtypes: int64(2), object(4)\n",
      "memory usage: 16.6+ MB\n"
     ]
    }
   ],
   "source": [
    "# show information about the dataset\n",
    "df.info()"
   ]
  },
  {
   "cell_type": "code",
   "execution_count": 4,
   "id": "41ff1d11",
   "metadata": {},
   "outputs": [
    {
     "name": "stdout",
     "output_type": "stream",
     "text": [
      "The unique genres in the dataset are: \n",
      "['Pop' 'Hip-Hop' 'Not Available' 'Other' 'Rock' 'Metal' 'Country' 'Jazz'\n",
      " 'Electronic' 'Folk' 'R&B' 'Indie']\n",
      "The number of artists in the dataset is: 18231\n"
     ]
    }
   ],
   "source": [
    "# find the unique values of specified columns \n",
    "print(\"The unique genres in the dataset are: \")\n",
    "print(df[\"genre\"].unique())\n",
    "print(\"The number of artists in the dataset is: \"+ str(len(df[\"artist\"].unique())))"
   ]
  },
  {
   "cell_type": "code",
   "execution_count": 5,
   "id": "bab09ad4",
   "metadata": {},
   "outputs": [
    {
     "name": "stdout",
     "output_type": "stream",
     "text": [
      "The value counts for each genre is: \n",
      "Rock             131377\n",
      "Pop               49444\n",
      "Hip-Hop           33965\n",
      "Not Available     29814\n",
      "Metal             28408\n",
      "Other             23683\n",
      "Country           17286\n",
      "Jazz              17147\n",
      "Electronic        16205\n",
      "R&B                5935\n",
      "Indie              5732\n",
      "Folk               3241\n",
      "Name: genre, dtype: int64\n"
     ]
    },
    {
     "data": {
      "image/png": "[encoded data removed]",
      "text/plain": [
       "<Figure size 432x288 with 1 Axes>"
      ]
     },
     "metadata": {},
     "output_type": "display_data"
    }
   ],
   "source": [
    "# visualise the distribution of the genres\n",
    "print(\"The value counts for each genre is: \")\n",
    "print(df[\"genre\"].value_counts())\n",
    "plt.pie(df[\"genre\"].value_counts(), labels=df[\"genre\"].unique(), autopct=\"%.2f\", radius=2)\n",
    "plt.title(\"Pie chart illustrating the distribution of songs across genres\", x=0.5, y=1.4)\n",
    "plt.show()"
   ]
  },
  {
   "cell_type": "code",
   "execution_count": 6,
   "id": "22490c26",
   "metadata": {},
   "outputs": [
    {
     "name": "stdout",
     "output_type": "stream",
     "text": [
      "The top 10 artists with the most songs in the dataset: \n",
      "dolly-parton        755\n",
      "american-idol       700\n",
      "elton-john          680\n",
      "b-b-king            667\n",
      "chris-brown         655\n",
      "eddy-arnold         628\n",
      "barbra-streisand    624\n",
      "ella-fitzgerald     623\n",
      "bob-dylan           614\n",
      "david-bowie         599\n",
      "Name: artist, dtype: int64\n"
     ]
    },
    {
     "data": {
      "image/png": "[encoded data removed]",
      "text/plain": [
       "<Figure size 1080x360 with 1 Axes>"
      ]
     },
     "metadata": {
      "needs_background": "light"
     },
     "output_type": "display_data"
    }
   ],
   "source": [
    "# visualising the data of the artists and their songs\n",
    "print(\"The top 10 artists with the most songs in the dataset: \")\n",
    "print(df[\"artist\"].value_counts().head(10))\n",
    "plt.figure(figsize=(15,5))\n",
    "plt.bar(df[\"artist\"].value_counts().head(10).index, df[\"artist\"].value_counts().head(10))\n",
    "plt.title(\"Bar chart illustrating the top 10 artists with most songs\", x=0.5, y=1.2)\n",
    "plt.xlabel(\"Artist\")\n",
    "plt.ylabel(\"Number of songs\")\n",
    "plt.show()"
   ]
  },
  {
   "cell_type": "code",
   "execution_count": 7,
   "id": "c9f9a517",
   "metadata": {},
   "outputs": [],
   "source": [
    "# this method picks random songs from the dataset\n",
    "def randomLyrics(dataFrame):\n",
    "    number_of_songs = 250\n",
    "    # stores the indices of the songs to use\n",
    "    chosen_songs = list() \n",
    "    # stores the lyrics of the songs\n",
    "    selected_data = list()\n",
    "    for _ in range(0, number_of_songs):\n",
    "        # choose random number which signifies the index of the song to be picked\n",
    "        n = random.randint(0, len(dataFrame[\"index\"]))\n",
    "        # check if the index wasn't picked before\n",
    "        while n in chosen_songs:            \n",
    "            n = random.randint(0, len(dataFrame[\"index\"]))\n",
    "        chosen_songs.append(n)\n",
    "    # concatenate the lyrics of each value in chosen songs\n",
    "    for i in chosen_songs:\n",
    "        selected_data += dataFrame.loc[dataFrame[\"index\"] == i][\"lyrics\"].tolist()\n",
    "    return selected_data"
   ]
  },
  {
   "cell_type": "code",
   "execution_count": 8,
   "id": "236283b6",
   "metadata": {},
   "outputs": [],
   "source": [
    "# get user input on the options of generation\n",
    "# the user will be asked to choose either generate in default without no restrictions\n",
    "# generate based on an artist \n",
    "# or generate based on a genre\n",
    "def userChoice(df):\n",
    "    userInput = int(input(\"Please choose one of the following options: 1- General generation with no restrictions. \"+\n",
    "                        \"\\n 2- Generate based on a certain artist. \\n 3- Generate based on a specific genre.\\n\"))\n",
    "    # store the lyrics\n",
    "    selected_data = list() \n",
    "    # user chooses to generate lyrics with no restrictions\n",
    "    if(userInput == 1):\n",
    "        selected_data = randomLyrics(df)\n",
    "    # user chooses to generate based on a certain artist\n",
    "    # if the artist provided is not in the dataset the method will return an empty list\n",
    "    elif(userInput == 2):\n",
    "        artist = input(\"Please choose an artist: (Suggested artists: asap-rocky, future, down, ariana-grande, elysium)\")\n",
    "        if len(df.loc[df[\"artist\"] == artist]) <= 250:\n",
    "            selected_data = df.loc[df[\"artist\"] == artist][\"lyrics\"].tolist()\n",
    "        else: \n",
    "            # if the data is more than 250 songs than select a few of those songs\n",
    "            selected_data = randomLyrics(df.loc[df[\"artist\"] == artist])\n",
    "    # user chooses to generate based on a certain genre\n",
    "    elif(userInput == 3):\n",
    "        genre = input(\"Please choose a genre: (Available genres: Hip-Hop, Folk, Metal, Jazz, Pop, Indie, Electronic, Rock, Country, Other, R&B)\")\n",
    "        if len(df.loc[df[\"genre\"] == genre]) <= 250:\n",
    "            selected_data = df.loc[df[\"genre\"] == genre][\"lyrics\"].tolist()\n",
    "        else: \n",
    "            # if the data is more than 250 songs than select a few of those songs\n",
    "            selected_data = randomLyrics(df.loc[df[\"genre\"] == genre])\n",
    "    else:\n",
    "        print(\"Please choose 1, 2, or 3\")\n",
    "    return selected_data\n",
    "\n",
    "lyrics = userChoice(df)"
   ]
  },
  {
   "cell_type": "code",
   "execution_count": 9,
   "id": "b0bed541",
   "metadata": {},
   "outputs": [
    {
     "name": "stdout",
     "output_type": "stream",
     "text": [
      "Number of songs selected: 211\n",
      "Actual number of songs to be used: 180\n"
     ]
    }
   ],
   "source": [
    "# Some rows might be empty so we need to ignore them\n",
    "print(\"Number of songs selected: \"+ str(len(lyrics)))\n",
    "lyrics = [x for x in lyrics if not isinstance(x, float)]\n",
    "# length of the lyrics list after the removal\n",
    "print(\"Actual number of songs to be used: \"+ str(len(lyrics)))"
   ]
  },
  {
   "cell_type": "code",
   "execution_count": 10,
   "id": "dfbb206c",
   "metadata": {},
   "outputs": [
    {
     "name": "stdout",
     "output_type": "stream",
     "text": [
      "Dirty soda, Spike Lee, white girl, iced tea\n",
      "Fully loaded AP, yeah\n",
      "I just fucked your bitch in some Gucci flip flops\n",
      "I just had some bitches and I made them lip lock\n",
      "I just took a piss and I seen codeine coming out\n",
      "We got purple Activis, I thought it was a drought\n",
      "Bitch I'ma choose the dirty over you\n",
      "You know I ain't scared to lose you\n",
      "They don't like it when you're telling the truth\n",
      "I'd rather be \n"
     ]
    }
   ],
   "source": [
    "# join the songs in the lyrics as one big string\n",
    "data = \" \".join(lyrics)\n",
    "# print the first 400 characters\n",
    "print(data[:400])"
   ]
  },
  {
   "cell_type": "code",
   "execution_count": 11,
   "id": "f4888c90",
   "metadata": {},
   "outputs": [],
   "source": [
    "# this method removes punctuation from text\n",
    "# and turns it to lower case then returns the clean text\n",
    "\n",
    "def clean_data(text):\n",
    "    table = str.maketrans('', '', string.punctuation)\n",
    "    new_text = text.translate(table)\n",
    "    tokens = new_text.split()\n",
    "    tokens = [word for word in tokens if word.isalpha() or word.isnumeric()]\n",
    "    tokens = [word.lower() for word in tokens]\n",
    "    return \" \".join(tokens)"
   ]
  },
  {
   "cell_type": "code",
   "execution_count": 12,
   "id": "b98236ff",
   "metadata": {},
   "outputs": [
    {
     "name": "stdout",
     "output_type": "stream",
     "text": [
      "The first 5 sentences: \n",
      "['dirty soda spike lee white girl iced tea', 'fully loaded ap yeah', 'i just fucked your bitch in some gucci flip flops', 'i just had some bitches and i made them lip lock', 'i just took a piss and i seen codeine coming out']\n",
      "unique_chars: [' ', '0', '1', '2', '3', '4', '5', '6', '7', '8', '9', 'a', 'b', 'c', 'd', 'e', 'f', 'g', 'h', 'i', 'j', 'k', 'l', 'm', 'n', 'o', 'p', 'q', 'r', 's', 't', 'u', 'v', 'w', 'x', 'y', 'z', 'º', 'ã']\n"
     ]
    }
   ],
   "source": [
    "# use the cleaned data to check all the special characters in the text\n",
    "# this helps us to recognise any uncommon characters that we might not want to keep in our text\n",
    "# such as other languages symbols and other symbols that dont really contribute to the meaning\n",
    "\n",
    "# split the data into sentences\n",
    "sentences = data.split(\"\\n\")\n",
    "# clean the sentences\n",
    "data = [clean_data(sentence) for sentence in sentences]\n",
    "# print the first 5 sentences\n",
    "print(\"The first 5 sentences: \")\n",
    "print(data[:5])\n",
    "# join the lyrics after they after being cleaned \n",
    "corpus = \"\".join(data)\n",
    "# print the unique characters found in the lyrics selected\n",
    "print(\"unique_chars:\", sorted(set(corpus)))"
   ]
  },
  {
   "cell_type": "code",
   "execution_count": 13,
   "id": "7d3f67aa",
   "metadata": {},
   "outputs": [
    {
     "name": "stdout",
     "output_type": "stream",
     "text": [
      "unique_chars: [' ', '0', '1', '2', '3', '4', '5', '6', '7', '8', '9', 'a', 'b', 'c', 'd', 'e', 'f', 'g', 'h', 'i', 'j', 'k', 'l', 'm', 'n', 'o', 'p', 'q', 'r', 's', 't', 'u', 'v', 'w', 'x', 'y', 'z']\n",
      "Number of characters after removal: 467976\n",
      "first 200 characters: dirty soda spike lee white girl iced tea fully loaded ap yeah i just fucked your bitch in some gucci flip flops i just had some bitches and i made them lip lock i just took a piss and i seen codeine c\n"
     ]
    }
   ],
   "source": [
    "# remove characters other than English characters \n",
    "new_data = []\n",
    "for sentence in data: \n",
    "    sentence = sentence.encode(\"ascii\", \"ignore\").decode()\n",
    "    new_data.append(sentence)\n",
    "corpus = \" \".join(new_data)\n",
    "# print the new unique characters after removing the non English characters\n",
    "print(\"unique_chars:\", sorted(set(corpus)))\n",
    "# number of characters after removal\n",
    "print(\"Number of characters after removal: \"+ str(len(corpus)))\n",
    "# print the first 200 characters \n",
    "print(\"first 200 characters: \" + corpus[:200])"
   ]
  },
  {
   "cell_type": "code",
   "execution_count": 14,
   "id": "2ff1c200",
   "metadata": {},
   "outputs": [
    {
     "name": "stdout",
     "output_type": "stream",
     "text": [
      "[('i', 4040), ('the', 3313), ('a', 2871), ('you', 2443), ('that', 1740)]\n"
     ]
    }
   ],
   "source": [
    "# printing the most common words in the corpus\n",
    "counter = Counter(corpus.split())\n",
    "most_occur = counter.most_common(5)\n",
    "# print the top 5 most occuring words\n",
    "print(most_occur)"
   ]
  },
  {
   "cell_type": "code",
   "execution_count": 15,
   "id": "7fc055d1",
   "metadata": {},
   "outputs": [
    {
     "data": {
      "text/plain": [
       "{'just': 0.04554455445544554,\n",
       " 'made': 0.008663366336633664,\n",
       " 'seen': 0.006683168316831683,\n",
       " 'thought': 0.004702970297029703,\n",
       " 'aint': 0.034900990099009904,\n",
       " 'had': 0.018564356435643563,\n",
       " 'called': 0.0009900990099009901,\n",
       " 'sold': 0.0009900990099009901,\n",
       " 'dont': 0.048514851485148516,\n",
       " 'take': 0.005693069306930693,\n",
       " 'never': 0.007920792079207921,\n",
       " 'was': 0.02995049504950495,\n",
       " 'came': 0.01410891089108911,\n",
       " 'strapped': 0.0004950495049504951,\n",
       " 'gave': 0.0024752475247524753,\n",
       " 'put': 0.00891089108910891,\n",
       " 'told': 0.03440594059405941,\n",
       " 'got': 0.07846534653465347,\n",
       " 'need': 0.007920792079207921,\n",
       " 'try': 0.0024752475247524753,\n",
       " 'pull': 0.005198019801980198,\n",
       " 'smoke': 0.0017326732673267327,\n",
       " 'get': 0.01782178217821782,\n",
       " 'can': 0.020792079207920793,\n",
       " 'float': 0.0004950495049504951,\n",
       " 'pour': 0.0034653465346534654,\n",
       " 'been': 0.012623762376237625,\n",
       " 'go': 0.010643564356435644,\n",
       " 'fucked': 0.0032178217821782176,\n",
       " 'jumped': 0.0027227722772277226,\n",
       " 'step': 0.0017326732673267327,\n",
       " 'come': 0.0039603960396039604,\n",
       " 'know': 0.04405940594059406,\n",
       " 'gots': 0.0007425742574257426,\n",
       " 'rock': 0.0014851485148514852,\n",
       " 'be': 0.008663366336633664,\n",
       " 'love': 0.005198019801980198,\n",
       " 'went': 0.008415841584158416,\n",
       " 'swear': 0.006930693069306931,\n",
       " 'did': 0.0071782178217821785,\n",
       " 'turned': 0.0022277227722772275,\n",
       " 'burnt': 0.0004950495049504951,\n",
       " 'guess': 0.0027227722772277226,\n",
       " 'feel': 0.006930693069306931,\n",
       " 'wont': 0.008168316831683169,\n",
       " 'm': 0.007920792079207921,\n",
       " 'turn': 0.0024752475247524753,\n",
       " 'smash': 0.0019801980198019802,\n",
       " 'don': 0.0014851485148514852,\n",
       " 'think': 0.011138613861386138,\n",
       " 'won': 0.005198019801980198,\n",
       " 'see': 0.01485148514851485,\n",
       " 'motivate': 0.0004950495049504951,\n",
       " 'lil': 0.0004950495049504951,\n",
       " 'wipe': 0.0004950495049504951,\n",
       " 'do': 0.008168316831683169,\n",
       " 'didn': 0.0004950495049504951,\n",
       " 'ain': 0.0009900990099009901,\n",
       " 'ride': 0.0014851485148514852,\n",
       " 'keep': 0.011138613861386138,\n",
       " 'didnt': 0.0049504950495049506,\n",
       " 'mean': 0.0034653465346534654,\n",
       " 'say': 0.0027227722772277226,\n",
       " 'ate': 0.00024752475247524753,\n",
       " 'kidsll': 0.00024752475247524753,\n",
       " 'hold': 0.0004950495049504951,\n",
       " 'want': 0.007425742574257425,\n",
       " 'cant': 0.014603960396039605,\n",
       " 'believe': 0.0009900990099009901,\n",
       " 'choose': 0.00024752475247524753,\n",
       " 'wouldve': 0.0004950495049504951,\n",
       " 'way': 0.00024752475247524753,\n",
       " 'to': 0.00024752475247524753,\n",
       " 'used': 0.0019801980198019802,\n",
       " 'done': 0.007425742574257425,\n",
       " 'serve': 0.005693069306930693,\n",
       " 'pass': 0.0007425742574257426,\n",
       " 'fuck': 0.01287128712871287,\n",
       " 'jugg': 0.0004950495049504951,\n",
       " 'walkin': 0.0004950495049504951,\n",
       " 'talk': 0.0019801980198019802,\n",
       " 'bet': 0.0029702970297029703,\n",
       " 'paid': 0.0009900990099009901,\n",
       " 'brought': 0.0007425742574257426,\n",
       " 'have': 0.0019801980198019802,\n",
       " 'spoke': 0.00024752475247524753,\n",
       " 'met': 0.0004950495049504951,\n",
       " 'bought': 0.006435643564356435,\n",
       " 'could': 0.004702970297029703,\n",
       " 'perform': 0.0004950495049504951,\n",
       " 'should': 0.0032178217821782176,\n",
       " 'promise': 0.0014851485148514852,\n",
       " 'brag': 0.00024752475247524753,\n",
       " 'dream': 0.00024752475247524753,\n",
       " 'only': 0.0007425742574257426,\n",
       " 'said': 0.0034653465346534654,\n",
       " 'always': 0.0012376237623762376,\n",
       " 'hear': 0.0004950495049504951,\n",
       " 'call': 0.0024752475247524753,\n",
       " 'tell': 0.0007425742574257426,\n",
       " 'hit': 0.004455445544554455,\n",
       " 'buying': 0.00024752475247524753,\n",
       " 'payed': 0.0007425742574257426,\n",
       " 'dropped': 0.0004950495049504951,\n",
       " 'make': 0.0027227722772277226,\n",
       " 'knew': 0.0012376237623762376,\n",
       " 'still': 0.004455445544554455,\n",
       " 'hope': 0.005445544554455445,\n",
       " 'wouldnt': 0.0009900990099009901,\n",
       " 'woke': 0.0012376237623762376,\n",
       " 'whipped': 0.00024752475247524753,\n",
       " 'spent': 0.010148514851485149,\n",
       " 'slung': 0.00024752475247524753,\n",
       " 'makin': 0.00024752475247524753,\n",
       " 'sit': 0.0024752475247524753,\n",
       " 'meditate': 0.00024752475247524753,\n",
       " 'am': 0.0029702970297029703,\n",
       " 'remain': 0.00024752475247524753,\n",
       " 'must': 0.00024752475247524753,\n",
       " 'rather': 0.00024752475247524753,\n",
       " 'grew': 0.0022277227722772275,\n",
       " 'heard': 0.010396039603960397,\n",
       " 'played': 0.00024752475247524753,\n",
       " 'smoked': 0.0007425742574257426,\n",
       " 'poured': 0.0004950495049504951,\n",
       " 'blast': 0.00024752475247524753,\n",
       " 'razzel': 0.00024752475247524753,\n",
       " 'gazzel': 0.00024752475247524753,\n",
       " 'spit': 0.00024752475247524753,\n",
       " 'dirty': 0.00024752475247524753,\n",
       " 'gotta': 0.0049504950495049506,\n",
       " 'took': 0.005693069306930693,\n",
       " 'crumble': 0.00024752475247524753,\n",
       " 'grindin': 0.00024752475247524753,\n",
       " 'blow': 0.017574257425742576,\n",
       " 'flip': 0.0004950495049504951,\n",
       " 'wear': 0.0049504950495049506,\n",
       " 'clear': 0.0007425742574257426,\n",
       " 'cash': 0.0007425742574257426,\n",
       " 'tried': 0.005445544554455445,\n",
       " 'mixed': 0.00024752475247524753,\n",
       " 'topped': 0.00024752475247524753,\n",
       " 'look': 0.0007425742574257426,\n",
       " 'hang': 0.0007425742574257426,\n",
       " 'ever': 0.0024752475247524753,\n",
       " 'begun': 0.00024752475247524753,\n",
       " 'kill': 0.0007425742574257426,\n",
       " 'wake': 0.0022277227722772275,\n",
       " 'practice': 0.00024752475247524753,\n",
       " 'wrote': 0.0004950495049504951,\n",
       " 'wish': 0.013366336633663366,\n",
       " 'lose': 0.00024752475247524753,\n",
       " 'stick': 0.0004950495049504951,\n",
       " 'will': 0.0014851485148514852,\n",
       " 'really': 0.0012376237623762376,\n",
       " 'started': 0.0007425742574257426,\n",
       " 'washed': 0.00024752475247524753,\n",
       " 'prayed': 0.00024752475247524753,\n",
       " 'pissed': 0.00024752475247524753,\n",
       " 'miss': 0.0004950495049504951,\n",
       " 'taught': 0.00024752475247524753,\n",
       " 'run': 0.0024752475247524753,\n",
       " 'fcked': 0.00024752475247524753,\n",
       " 'might': 0.0049504950495049506,\n",
       " 'lay': 0.0004950495049504951,\n",
       " 'slip': 0.00024752475247524753,\n",
       " 'shop': 0.0004950495049504951,\n",
       " 'hop': 0.0007425742574257426,\n",
       " 'meant': 0.0004950495049504951,\n",
       " 'walk': 0.0022277227722772275,\n",
       " 'drive': 0.0019801980198019802,\n",
       " 'fly': 0.0004950495049504951,\n",
       " 'tie': 0.00024752475247524753,\n",
       " 'wanna': 0.0071782178217821785,\n",
       " 'painted': 0.00024752475247524753,\n",
       " 'pray': 0.0012376237623762376,\n",
       " 'grind': 0.0012376237623762376,\n",
       " 'recollect': 0.00024752475247524753,\n",
       " 'experienced': 0.00024752475247524753,\n",
       " 'reflect': 0.0004950495049504951,\n",
       " 'damn': 0.0004950495049504951,\n",
       " 'became': 0.0012376237623762376,\n",
       " 'work': 0.00024752475247524753,\n",
       " 'turnt': 0.00024752475247524753,\n",
       " 'showed': 0.0004950495049504951,\n",
       " 'commit': 0.00024752475247524753,\n",
       " 'kept': 0.0017326732673267327,\n",
       " 'set': 0.0007425742574257426,\n",
       " 'live': 0.0024752475247524753,\n",
       " 'ran': 0.0017326732673267327,\n",
       " 'slaughter': 0.00024752475247524753,\n",
       " 'filled': 0.00024752475247524753,\n",
       " 'basketball': 0.0004950495049504951,\n",
       " 'forgot': 0.0019801980198019802,\n",
       " 'burned': 0.0004950495049504951,\n",
       " 'rose': 0.0004950495049504951,\n",
       " 'i': 0.0022277227722772275,\n",
       " 'stay': 0.0017326732673267327,\n",
       " 'double': 0.0007425742574257426,\n",
       " 'swapped': 0.0039603960396039604,\n",
       " 'designed': 0.00024752475247524753,\n",
       " 'once': 0.00024752475247524753,\n",
       " 'vvs': 0.00024752475247524753,\n",
       " 'act': 0.00024752475247524753,\n",
       " 'treat': 0.0012376237623762376,\n",
       " 'suggest': 0.00024752475247524753,\n",
       " 'projected': 0.00024752475247524753,\n",
       " 'move': 0.0004950495049504951,\n",
       " 'does': 0.0009900990099009901,\n",
       " 'enjoy': 0.00024752475247524753,\n",
       " 'stepped': 0.0004950495049504951,\n",
       " 'like': 0.006683168316831683,\n",
       " 'speak': 0.00024752475247524753,\n",
       " 'found': 0.0012376237623762376,\n",
       " 'count': 0.0012376237623762376,\n",
       " 'pay': 0.0004950495049504951,\n",
       " 'dnt': 0.00024752475247524753,\n",
       " 'eat': 0.0007425742574257426,\n",
       " 'plead': 0.00024752475247524753,\n",
       " 'then': 0.00024752475247524753,\n",
       " 'walked': 0.00024752475247524753,\n",
       " 'belong': 0.0004950495049504951,\n",
       " 'moved': 0.0004950495049504951,\n",
       " 'what': 0.00024752475247524753,\n",
       " 'ask': 0.0004950495049504951,\n",
       " 'hate': 0.0007425742574257426,\n",
       " 'worked': 0.0012376237623762376,\n",
       " 'picked': 0.00024752475247524753,\n",
       " 'chose': 0.00024752475247524753,\n",
       " 'laid': 0.00024752475247524753,\n",
       " 'land': 0.0004950495049504951,\n",
       " 'embrace': 0.0007425742574257426,\n",
       " 'throwed': 0.00024752475247524753,\n",
       " 'free': 0.00024752475247524753,\n",
       " 'remember': 0.0007425742574257426,\n",
       " 'hardly': 0.0007425742574257426,\n",
       " 'expose': 0.00024752475247524753,\n",
       " 'spread': 0.00024752475247524753,\n",
       " 'flew': 0.0007425742574257426,\n",
       " 'use': 0.00024752475247524753,\n",
       " 'bust': 0.00024752475247524753,\n",
       " 'dip': 0.00024752475247524753,\n",
       " 'loaded': 0.00024752475247524753,\n",
       " 'peep': 0.00024752475247524753,\n",
       " 'give': 0.0027227722772277226,\n",
       " 'fell': 0.004207920792079208,\n",
       " 'dig': 0.00024752475247524753,\n",
       " 'smashed': 0.00024752475247524753,\n",
       " 'spend': 0.0004950495049504951,\n",
       " 'stack': 0.0004950495049504951,\n",
       " 'juug': 0.00024752475247524753,\n",
       " 'planned': 0.0004950495049504951,\n",
       " 'party': 0.0007425742574257426,\n",
       " 'start': 0.00024752475247524753,\n",
       " 'zig': 0.00024752475247524753,\n",
       " 'zag': 0.00024752475247524753,\n",
       " 'sipping': 0.00024752475247524753,\n",
       " 'switch': 0.00024752475247524753,\n",
       " 'chop': 0.00024752475247524753,\n",
       " 'adapted': 0.00024752475247524753,\n",
       " 'passed': 0.0014851485148514852,\n",
       " 'peel': 0.00024752475247524753,\n",
       " 'let': 0.0012376237623762376,\n",
       " 'drinking': 0.00024752475247524753,\n",
       " 'fall': 0.0007425742574257426,\n",
       " 'bagged': 0.00024752475247524753,\n",
       " 'throw': 0.0007425742574257426,\n",
       " 'fill': 0.0004950495049504951,\n",
       " 'drink': 0.0014851485148514852,\n",
       " 'purchase': 0.0004950495049504951,\n",
       " 'watched': 0.0004950495049504951,\n",
       " 'flood': 0.00024752475247524753,\n",
       " 'represent': 0.0004950495049504951,\n",
       " 'elevate': 0.0004950495049504951,\n",
       " 'bent': 0.00024752475247524753,\n",
       " 'send': 0.0012376237623762376,\n",
       " 'sleep': 0.00024752475247524753,\n",
       " 'slide': 0.00024752475247524753,\n",
       " 'banged': 0.00024752475247524753,\n",
       " 'post': 0.00024752475247524753,\n",
       " 'boast': 0.00024752475247524753,\n",
       " 'pop': 0.0007425742574257426,\n",
       " 'barely': 0.00024752475247524753,\n",
       " 'havent': 0.0004950495049504951,\n",
       " 'meet': 0.00024752475247524753,\n",
       " 'scrub': 0.00024752475247524753,\n",
       " 'spazz': 0.0004950495049504951,\n",
       " 'wasnt': 0.0014851485148514852,\n",
       " 'rep': 0.0009900990099009901,\n",
       " 'jump': 0.0007425742574257426,\n",
       " 'scream': 0.00024752475247524753,\n",
       " 'boarded': 0.00024752475247524753,\n",
       " 'buried': 0.00024752475247524753,\n",
       " 'learn': 0.0009900990099009901,\n",
       " 'piss': 0.00024752475247524753,\n",
       " 'served': 0.00024752475247524753,\n",
       " 'hustled': 0.00024752475247524753,\n",
       " 'stole': 0.00024752475247524753,\n",
       " 'endured': 0.00024752475247524753,\n",
       " 'finally': 0.00024752475247524753,\n",
       " 'notice': 0.00024752475247524753,\n",
       " 'transport': 0.00024752475247524753,\n",
       " 'couldnt': 0.00024752475247524753,\n",
       " 'would': 0.0007425742574257426,\n",
       " 'hustle': 0.0004950495049504951,\n",
       " 'you': 0.00024752475247524753,\n",
       " 'paper': 0.00024752475247524753,\n",
       " 'im': 0.00024752475247524753,\n",
       " 'pulled': 0.0017326732673267327,\n",
       " 'shine': 0.00024752475247524753,\n",
       " 'sell': 0.0007425742574257426,\n",
       " 'dug': 0.00024752475247524753,\n",
       " 'appreciate': 0.0007425742574257426,\n",
       " 'levitate': 0.00024752475247524753,\n",
       " 'share': 0.00024752475247524753,\n",
       " 'shared': 0.00024752475247524753,\n",
       " 'looked': 0.00024752475247524753,\n",
       " 'catch': 0.00024752475247524753,\n",
       " 'tripled': 0.0012376237623762376,\n",
       " 'push': 0.00024752475247524753,\n",
       " 'lost': 0.00024752475247524753,\n",
       " 'roll': 0.0004950495049504951,\n",
       " 'caught': 0.00024752475247524753,\n",
       " 'assassinate': 0.00024752475247524753,\n",
       " 'toss': 0.00024752475247524753,\n",
       " 'redid': 0.00024752475247524753,\n",
       " 'play': 0.00024752475247524753,\n",
       " 'inhale': 0.00024752475247524753,\n",
       " 'full': 0.00024752475247524753,\n",
       " 'break': 0.0007425742574257426,\n",
       " 'crop': 0.00024752475247524753,\n",
       " 'drop': 0.0004950495049504951,\n",
       " 'whip': 0.0012376237623762376,\n",
       " 'rob': 0.0007425742574257426,\n",
       " 'splurge': 0.00024752475247524753,\n",
       " 'wiped': 0.00024752475247524753,\n",
       " 'growed': 0.00024752475247524753,\n",
       " 'find': 0.00024752475247524753,\n",
       " 'feed': 0.00024752475247524753,\n",
       " 'left': 0.0004950495049504951,\n",
       " 'ended': 0.0004950495049504951,\n",
       " 'booked': 0.00024752475247524753,\n",
       " 'bag': 0.00024752475247524753,\n",
       " 'stayed': 0.0004950495049504951,\n",
       " 'struggle': 0.00024752475247524753,\n",
       " 'suffer': 0.00024752475247524753,\n",
       " 'adopted': 0.00024752475247524753,\n",
       " 'reply': 0.00024752475247524753,\n",
       " 'baby': 0.00024752475247524753,\n",
       " 'bite': 0.00024752475247524753,\n",
       " 'knows': 0.0019801980198019802,\n",
       " 'nose': 0.0009900990099009901,\n",
       " 'fishtail': 0.0009900990099009901,\n",
       " 'misspell': 0.0009900990099009901,\n",
       " 'mention': 0.0009900990099009901,\n",
       " 'not': 0.014603960396039605,\n",
       " 'stare': 0.00024752475247524753,\n",
       " 'suppose': 0.00024752475247524753,\n",
       " 'die': 0.0004950495049504951,\n",
       " 'leave': 0.00024752475247524753,\n",
       " 'score': 0.00024752475247524753,\n",
       " 'drew': 0.00024752475247524753,\n",
       " 'mix': 0.00024752475247524753,\n",
       " 'were': 0.0009900990099009901,\n",
       " 'buy': 0.0009900990099009901,\n",
       " 'promote': 0.0009900990099009901,\n",
       " 'consist': 0.00024752475247524753,\n",
       " 'persist': 0.00024752475247524753,\n",
       " 'create': 0.0004950495049504951,\n",
       " 'struggled': 0.00024752475247524753,\n",
       " 'conquered': 0.00024752475247524753,\n",
       " 'gonna': 0.00024752475247524753,\n",
       " 'cope': 0.00024752475247524753,\n",
       " 'cater': 0.00024752475247524753,\n",
       " 'rarely': 0.0004950495049504951,\n",
       " 'smell': 0.0004950495049504951,\n",
       " 'click': 0.00024752475247524753,\n",
       " 'shake': 0.00024752475247524753}"
      ]
     },
     "execution_count": 15,
     "metadata": {},
     "output_type": "execute_result"
    }
   ],
   "source": [
    "# Creating the bigram model\n",
    "tokens = corpus.split()\n",
    "# create the placeholder for the model\n",
    "bigram_model = defaultdict(lambda: defaultdict(lambda: 0))\n",
    "# generate the bigrams of our corpus\n",
    "corpus_bigrams = list(bigrams(tokens, pad_right=True, pad_left=True))\n",
    "# fill the model / the defaultdicts with the word sequences from the bigrams \n",
    "for word1, word2 in corpus_bigrams:\n",
    "    bigram_model[word1][word2] += 1\n",
    "\n",
    "# transform the counts to probabilities\n",
    "for word in bigram_model:\n",
    "    total_counts = float(sum(bigram_model[word].values()))\n",
    "    for following_word in bigram_model[word]:\n",
    "        bigram_model[word][following_word] /= total_counts\n",
    "# this will show how the words that can come after a certain word and their probabilities are stored\n",
    "dict(bigram_model[\"i\"])"
   ]
  },
  {
   "cell_type": "code",
   "execution_count": 16,
   "id": "19ea3803",
   "metadata": {},
   "outputs": [],
   "source": [
    "# Creating a trigram model\n",
    "# create the placeholder for the model\n",
    "trigram_model = defaultdict(lambda: defaultdict(lambda: 0))\n",
    "# generate the trigrams of our corpus\n",
    "corpus_trigrams = list(trigrams(tokens, pad_right=True, pad_left=True))\n",
    "# fill the model / the defaultdicts with the word sequences from the trigrams \n",
    "for word1, word2, word3 in corpus_trigrams:\n",
    "    trigram_model[(word1, word2)][word3] += 1\n",
    "# transform the counts to probabilities\n",
    "for two_words in trigram_model:\n",
    "    total_counts = float(sum(trigram_model[two_words].values()))\n",
    "    for following_word in trigram_model[two_words]:\n",
    "        trigram_model[two_words][following_word] /= total_counts\n"
   ]
  },
  {
   "cell_type": "code",
   "execution_count": 17,
   "id": "dec916cf",
   "metadata": {},
   "outputs": [],
   "source": [
    "# create an ngram model (n will be specified by the user)\n",
    "# create the placeholder for the model\n",
    "quadgram_model = defaultdict(lambda: defaultdict(lambda: 0))\n",
    "# generate the bigrams of our corpus\n",
    "corpus_fourgrams = list(ngrams(tokens, 4, pad_right=True, pad_left=True))\n",
    "# fill the model / the defaultdicts with the word sequences from the bigrams \n",
    "for word1, word2, word3, word4 in corpus_fourgrams:\n",
    "    quadgram_model[(word1, word2, word3)][word4] += 1\n",
    "# transform the counts to probabilities\n",
    "for three_words in quadgram_model:\n",
    "    total_counts = float(sum(quadgram_model[three_words].values()))\n",
    "    for following_word in quadgram_model[three_words]:\n",
    "        quadgram_model[three_words][following_word] /= total_counts\n"
   ]
  },
  {
   "cell_type": "code",
   "execution_count": 18,
   "id": "e6d9aa6f",
   "metadata": {},
   "outputs": [
    {
     "name": "stdout",
     "output_type": "stream",
     "text": [
      "The song generated is: \n",
      "i get too obsessed with a whole nother hunned bottles nigga move that playin you smell like it baby ill spend a dealer forreal haha hahaha young young nigga i made myself a dope young nigga i party affection is homicide unit tryna hear da woolie im bout to pour it again and see nobody im the greatest aog in your past start acting you want we dont trust my chains to get money just took a cake on tits now its cotton money like i gotta real niggas split it nigga you wishing we goin ape im runnin runnin to run it up tryna see is a beamer then she the memories now that coke in money this for er im just bought a benz bitch who was serving piles where im from got some space cadets and youre loyal i wasnt gon do shit up before niggas getting higher than ohio get it down south side i blow a film movie nigga like she want no ho to get the syrup send er i seen codeine in money with a spider young nigga grindin and cold got em fuck up an astronaut forever ever i used to this shit radical.\n"
     ]
    }
   ],
   "source": [
    "# function to generate 200 words using bigram model\n",
    "def generate_lyrics_using_bigrams(first_input):\n",
    "    # first_word = a.get()\n",
    "    text = [first_input]\n",
    "    text_length = 0\n",
    "    \n",
    "    # check if the number of words generated is less than 200 and that the word chosen has words\n",
    "    # that can come after it based on the data \n",
    "    while text_length<=200 and len(bigram_model[text[len(text)-1]].keys()) != 0:\n",
    "        # select a random probability threshold  \n",
    "        r = random.random()\n",
    "        # this signifies the threshold \n",
    "        accumulator = .0\n",
    "        for word in bigram_model[text[-1]].keys():\n",
    "            accumulator += bigram_model[text[-1]][word]\n",
    "            # select words that are above the probability threshold\n",
    "            if accumulator >= r:\n",
    "                text.append(word)\n",
    "                text_length+=1\n",
    "                break\n",
    "    return text\n",
    "\n",
    "# ask the user to choose a word to start generating lyrics \n",
    "first_input = input(\"Enter the word to start generating lyrics: \")\n",
    "bigrams_result = generate_lyrics_using_bigrams(first_input)\n",
    "# if the word picked is not in the data then the program will use the word with the most occurences\n",
    "if (len(bigrams_result) == 1):\n",
    "    print(\"The input you provided was not found in the dataset.\")\n",
    "    print(\"the program used the word with the mostg occurences as a replacemenet, the word is: \" + most_occur[0][0])\n",
    "    bigrams_result = generate_lyrics_using_bigrams(most_occur[0][0])\n",
    "# join the words generated into one string\n",
    "temp = \" \".join(bigrams_result)\n",
    "print(\"The song generated is: \\n\" + temp + \".\")    "
   ]
  },
  {
   "cell_type": "code",
   "execution_count": 19,
   "id": "3fd951b6",
   "metadata": {},
   "outputs": [
    {
     "name": "stdout",
     "output_type": "stream",
     "text": [
      "The song generated is: \n",
      "i love to a hunned bottles nigga you aint even trynna be special i bag bitches burkin bag on ya future and never turn on the lights im lookin for a watch it happen it is my only damn purpose hook getting to the side i hit the south i got all the same mentality when i suffer i got love in the cold got fifty eight grams of bar im servin dope js in the couch and tell her legs open sesame abracadabra she wet for me like i got a hunnit racks bustin out the gym im bout to shoot it shoot it shoot out the van you know its one of you bitches we dont want no bitch who need to get tippy smokin reminiscin underground king pimp c bun b yeea gone show the swagga astronaut forever rockstar mcjagger yeea imma set my trend again put spikes on louis v tycoon you aint even started drinking beer yet they bust the dashboard hold up hold up on the moon turn on the purple and the drank and the hummer fronting some crack in the bed she bring that twerkalator make sure when you was servin all them bitches is.\n"
     ]
    }
   ],
   "source": [
    "# function to generate 200 words using trigram model\n",
    "def generate_lyrics_using_trigrams(first_word, second_word):\n",
    "    text = [first_word, second_word]\n",
    "    text_length = 0\n",
    "    \n",
    "    # check if the number of words generated is less than 200 and that the words chosen have words\n",
    "    # that can come after it based on the data\n",
    "    while text_length<=200 and len(trigram_model[tuple(text[-2:])].keys()) != 0:\n",
    "        # select a random probability threshold  \n",
    "        r = random.random()\n",
    "        accumulator = 0\n",
    "\n",
    "        for word in trigram_model[tuple(text[-2:])].keys():\n",
    "            accumulator += trigram_model[tuple(text[-2:])][word]\n",
    "            # select words that are above the probability threshold\n",
    "            if accumulator >= r:\n",
    "                text.append(word)\n",
    "                text_length+=1\n",
    "                break\n",
    "    return text\n",
    "\n",
    "# ask the user to choose two words to start generating lyrics\n",
    "# the two words should be seperated by a space and not have a space after the second word\n",
    "first_input, second_input = input(\"Enter two words to start generating lyrics: \").split()\n",
    "trigrams_result = generate_lyrics_using_trigrams(first_input, second_input)\n",
    "# if the words chosen are not in the dataset, the output would be empty\n",
    "if (len(trigrams_result) == 2):\n",
    "    print(\"The inputs you chose were not found in the dataset.\")\n",
    "else:\n",
    "    temp = \" \".join(trigrams_result)\n",
    "    print(\"The song generated is: \\n\" + temp + \".\")"
   ]
  },
  {
   "cell_type": "code",
   "execution_count": 20,
   "id": "1c535484",
   "metadata": {},
   "outputs": [
    {
     "name": "stdout",
     "output_type": "stream",
     "text": [
      "The inputs you chose were not found in the dataset.\n"
     ]
    }
   ],
   "source": [
    "# function to generate 200 words using trigram model\n",
    "def generate_lyrics_using_quadgrams(first_word, second_word, third_word):\n",
    "    text = [first_word, second_word, third_word]\n",
    "    text_length = 0\n",
    "\n",
    "    # check if the number of words generated is less than 200 and that the words chosen have words\n",
    "    # that can come after it based on the data\n",
    "    while text_length<=200 and len(quadgram_model[tuple(text[-3:])].keys()) != 0:\n",
    "        # select a random probability threshold  \n",
    "        r = random.random()\n",
    "        accumulator = 0\n",
    "        for word in quadgram_model[tuple(text[-3:])].keys():\n",
    "            accumulator += quadgram_model[tuple(text[-3:])][word]\n",
    "            # select words that are above the probability threshold\n",
    "            if accumulator >= r:\n",
    "                text.append(word)\n",
    "                text_length+=1\n",
    "                break\n",
    "    return text\n",
    "\n",
    "# ask the user to choose three words to start generating lyrics\n",
    "# the three words should be seperated by a space and not have a space after the third word\n",
    "first_input, second_input, third_input = input(\"Enter three words to start generating lyrics: \").split()\n",
    "quadgrams_result = generate_lyrics_using_quadgrams(first_input, second_input, third_input)\n",
    "# if the words chosen are not in the dataset, the output would be empty\n",
    "if (len(quadgrams_result) == 3):\n",
    "    print(\"The inputs you chose were not found in the dataset.\")\n",
    "else:\n",
    "    temp = \" \".join(quadgrams_result)\n",
    "    print(\"The generated song is:~ \\n\" + temp + \".\")"
   ]
  },
  {
   "cell_type": "markdown",
   "id": "b9065528",
   "metadata": {},
   "source": [
    "Recurrent Neural Networks model"
   ]
  },
  {
   "cell_type": "code",
   "execution_count": 21,
   "id": "ffee8f41",
   "metadata": {},
   "outputs": [
    {
     "name": "stdout",
     "output_type": "stream",
     "text": [
      "The Length of our corpus is: 467963\n",
      "The Number of unique characters in our corpus is: 37\n"
     ]
    }
   ],
   "source": [
    "# Store all the unique characters in a List to cerate a mapping dictionary\n",
    "corpus = (\" \".join(tokens)).strip()\n",
    "chars = sorted(list(set(corpus)))\n",
    "\n",
    "# store the length of the corpus\n",
    "corpus_length = len(corpus)\n",
    "# store the number of unique characters \n",
    "chars_length = len(chars)\n",
    "\n",
    "# map each characters in chars to a number\n",
    "chars_to_nums = dict((char, i) for i, char in enumerate(chars))\n",
    "# reverse mapping\n",
    "nums_to_chars = dict((i, c) for i, c in enumerate(chars))\n",
    "\n",
    "print(\"The Length of our corpus is: {}\".format(corpus_length))\n",
    "print(\"The Number of unique characters in our corpus is: {}\".format(chars_length))"
   ]
  },
  {
   "cell_type": "code",
   "execution_count": 22,
   "id": "fd5ae024",
   "metadata": {},
   "outputs": [
    {
     "name": "stdout",
     "output_type": "stream",
     "text": [
      "Total number of sequences in the Corpus:  467933\n",
      "dirty soda spike lee white girl\n"
     ]
    }
   ],
   "source": [
    "# this function splits the corpus into equal length strings and maps the characters in the sequences to numbers\n",
    "length = 30\n",
    "def create_sequences(text):\n",
    "    sequences = []\n",
    "    for i in range(length, len(text)):\n",
    "        # select sequence of characters and store them\n",
    "        # each sequence will be of length 31\n",
    "        c = text[i-length:i+1]\n",
    "        sequences.append(c)\n",
    "    print(\"Total number of sequences in the Corpus: \", len(sequences))\n",
    "    # print the first sequence\n",
    "    print(sequences[0])\n",
    "    return sequences\n",
    "    \n",
    "sequences = create_sequences(corpus)"
   ]
  },
  {
   "cell_type": "code",
   "execution_count": 23,
   "id": "89112bae",
   "metadata": {},
   "outputs": [],
   "source": [
    "# This function loops through the sequences and map their characters to numbers\n",
    "def map_sequences(sequences):\n",
    "    x_data = []\n",
    "    y_data = []\n",
    "    # for each character in the dictionary we retrieve its corresponding number\n",
    "    # and then append it to the empty lists we created\n",
    "    for seq in sequences:\n",
    "        sequence = [chars_to_nums[char] for char in seq]\n",
    "        # store the encoded sequence\n",
    "        x_data.append(sequence[:len(sequence)-1])\n",
    "        y_data.append(sequence[len(sequence)-1])\n",
    "    return x_data, y_data"
   ]
  },
  {
   "cell_type": "code",
   "execution_count": 24,
   "id": "867ddad4",
   "metadata": {},
   "outputs": [
    {
     "name": "stdout",
     "output_type": "stream",
     "text": [
      "The first encoded sequence is:  [14, 19, 28, 30, 35, 0, 29, 25, 14, 11, 0, 29, 26, 19, 21, 15, 0, 22, 15, 15, 0, 33, 18, 19, 30, 15, 0, 17, 19, 28]\n",
      "The character that comes after this sequence is:  22\n"
     ]
    }
   ],
   "source": [
    "x_data, y_data = map_sequences(sequences)\n",
    "# Example:\n",
    "print(\"The first encoded sequence is: \", x_data[0])\n",
    "print(\"The character that comes after this sequence is: \", y_data[0])\n",
    "\n",
    "# converting the input into a numpy array to feed into the network\n",
    "X = np.reshape(x_data, (len(x_data), length, 1))\n",
    "X = X/float(chars_length)\n",
    "\n",
    "# one hot encode the y data\n",
    "y_data = np_utils.to_categorical(y_data, num_classes=chars_length)"
   ]
  },
  {
   "cell_type": "code",
   "execution_count": 25,
   "id": "ff766b81",
   "metadata": {},
   "outputs": [
    {
     "name": "stdout",
     "output_type": "stream",
     "text": [
      "Model: \"sequential\"\n",
      "_________________________________________________________________\n",
      " Layer (type)                Output Shape              Param #   \n",
      "=================================================================\n",
      " lstm (LSTM)                 (None, 256)               264192    \n",
      "                                                                 \n",
      " dropout (Dropout)           (None, 256)               0         \n",
      "                                                                 \n",
      " dense (Dense)               (None, 37)                9509      \n",
      "                                                                 \n",
      "=================================================================\n",
      "Total params: 273,701\n",
      "Trainable params: 273,701\n",
      "Non-trainable params: 0\n",
      "_________________________________________________________________\n"
     ]
    }
   ],
   "source": [
    "# create the LSTM model / initialise the model\n",
    "model = Sequential()\n",
    "\n",
    "# add an LSTM layer\n",
    "model.add(LSTM(256, input_shape=(X.shape[1], X.shape[2])))\n",
    "# to help prevent overfitting, we used a dropout layer\n",
    "model.add(Dropout(0.2))\n",
    "\n",
    "# Add Output Layer\n",
    "model.add(Dense(y_data.shape[1], activation='softmax'))\n",
    "\n",
    "# compile the model\n",
    "model.compile(loss='categorical_crossentropy', optimizer='adam')\n",
    "# display the summary of the model\n",
    "model.summary()"
   ]
  },
  {
   "cell_type": "code",
   "execution_count": 26,
   "id": "00015b10",
   "metadata": {},
   "outputs": [
    {
     "name": "stdout",
     "output_type": "stream",
     "text": [
      "Epoch 1/20\n"
     ]
    }
   ],
   "source": [
    "# fit the model\n",
    "model.fit(X, y_data, epochs=20)"
   ]
  },
  {
   "cell_type": "code",
   "execution_count": null,
   "id": "08e8c3b7",
   "metadata": {},
   "outputs": [
    {
     "name": "stdout",
     "output_type": "stream",
     "text": [
      "[35, 25, 31, 28, 0, 23, 25, 24, 15, 35, 0, 31, 26, 0, 19, 0, 17, 25, 30, 30, 11, 0, 29, 30, 11, 13, 21, 0, 30, 18]\n",
      "your money up i gotta stack th\n"
     ]
    }
   ],
   "source": [
    "# pick a random sequence from the data to start generating text\n",
    "num = random.randint(0, len(x_data)-1)\n",
    "starting_text = x_data[num]\n",
    "# number encoded sequence\n",
    "print(starting_text)\n",
    "\n",
    "# the starting string as a string of characters\n",
    "print(\"\".join([nums_to_chars[num] for num in starting_text]))\n",
    "# This function generates text from model created\n",
    "def Lyrics_Generator(starting_text, char_count):\n",
    "    generated_text = \"\".join([nums_to_chars[num] for num in starting_text])\n",
    "    for _ in range(char_count):\n",
    "        x = np.reshape(starting_text, (1, length, 1))\n",
    "        x = x / float(chars_length)\n",
    "        prediction =  model.predict(x, verbose=0)\n",
    "        index = np.argmax(prediction)\n",
    "        next_char = nums_to_chars[index]\n",
    "        # generating the new text\n",
    "        generated_text += next_char\n",
    "        starting_text.append(index)\n",
    "        starting_text = starting_text[1:]\n",
    "    return generated_text"
   ]
  },
  {
   "cell_type": "code",
   "execution_count": null,
   "id": "d9ecd37d",
   "metadata": {},
   "outputs": [
    {
     "name": "stdout",
     "output_type": "stream",
     "text": [
      "The generated song is: your money up i gotta stack th toe toe toe toe toe toe toe toe toe toe toe toe toe toe toe toe toe toe toe toe toe toe toe toe toe toe toe toe toe toe toe toe toe toe toe toe toe toe toe toe toe toe toe toe toe toe toe toe toe toe toe toe toe toe toe toe toe toe toe toe toe toe toe toe toe toe toe toe toe toe toe toe toe toe toe toe toe toe toe toe toe toe toe toe toe toe toe toe toe toe toe toe toe toe toe toe toe toe toe toe toe toe toe toe toe toe toe toe toe toe toe toe toe toe toe toe toe toe toe toe toe toe toe toe toe toe toe toe toe toe toe toe toe toe toe toe toe toe toe toe toe toe toe toe toe toe toe toe toe toe toe toe toe toe toe toe toe toe toe toe toe toe toe toe toe toe toe toe toe toe toe toe toe toe toe toe toe toe toe toe toe toe toe toe toe toe toe toe toe toe toe toe toe toe toe toe toe toe toe toe toe toe toe toe toe toe toe toe toe toe toe toe toe toe toe toe toe toe toe toe toe toe toe toe toe toe toe toe toe toe toe toe toe toe toe toe toe toe toe toe toe toe toe toe toe toe toe toe toe toe toe toe toe toe toe toe toe toe toe toe toe toe toe toe toe toe toe toe toe toe toe toe toe toe toe toe toe toe toe toe toe toe toe toe toe toe toe toe toe toe toe toe toe toe toe toe toe toe toe toe toe toe toe toe toe toe toe toe toe toe toe toe toe toe toe toe toe toe toe toe toe toe toe toe toe toe toe toe toe toe toe toe toe toe toe toe toe toe toe toe toe toe toe toe toe toe toe toe toe toe toe toe toe toe toe toe toe toe toe toe toe toe toe toe toe toe toe toe toe toe toe toe toe toe toe.\n"
     ]
    }
   ],
   "source": [
    "song = Lyrics_Generator(starting_text, 1500)\n",
    "print(\"The generated song is: \" + song + \".\")"
   ]
  },
  {
   "cell_type": "code",
   "execution_count": null,
   "id": "ed635538",
   "metadata": {},
   "outputs": [
    {
     "name": "stdout",
     "output_type": "stream",
     "text": [
      "The thing I like about you\n",
      "Is the way you\n",
      "The way that you do\n",
      "The thing I like about you\n",
      "God or the Devil alone\n",
      "Could not have made you up\n",
      "The two must have worked\n",
      "As one together\n",
      "So good just wanna eat you up\n",
      "Nothing like the real thing\n",
      "Lick your sticky fingers boy\n",
      "And sing for your dinner sing\n",
      "Come on pretty baby\n",
      "Make me lose my mind\n",
      "Everybody get together\n",
      "Gonna make love shine\n",
      "[Chorus]\n",
      "Do you know what it is\n",
      "To feel the light of love inside you\n",
      "And all the darkness falls away\n",
      "If you feel the way I feel\n",
      "Then I believe we have the answer\n",
      "I've been searching for tonight\n",
      "Love me baby, love me baby\n",
      "Shake me like a monkey, baby\n",
      "Forever I'm yours, yours, yours\n",
      "Yeah forever I am\n",
      "I, I, I\n",
      "Can't stop thinking 'bout you\n",
      "Yeah Yeah Yeah\n",
      "Why would I want to\n",
      "I like my coffee\n",
      "With toast and jelly\n",
      "But I'd rather be licking\n",
      "From your back to your belly\n",
      "I, I, I\n",
      "Think that I'm going to\n",
      "[Chorus]\n",
      "Cigarettes and coffee\n",
      "Broken hearts and being lonely\n",
      "Little girls and ponies\n",
      "Things that go together\n",
      "Yes and no\n",
      "You have to choose\n",
      "Romeo and Juliet\n",
      "The hangman and his noose\n",
      "You and me we go good together\n",
      "Kiss, kiss make a wish\n",
      "Hope that it comes true\n",
      "I ain't waiting for the world to change\n",
      "Gonna change the world for you\n",
      "Come on pretty baby\n",
      "Make you lose your mind\n",
      "Everybody get together\n",
      "Gonna make love shine\n",
      "[Chorus]\n",
      "Come on everybody\n",
      "Make me lose my mind\n",
      "Everybody get together\n",
      "Gonna make love shine.\n"
     ]
    }
   ],
   "source": [
    "reference = random.choice(lyrics)\n",
    "print(reference)"
   ]
  },
  {
   "cell_type": "code",
   "execution_count": null,
   "id": "96ef4a14",
   "metadata": {},
   "outputs": [
    {
     "data": {
      "text/plain": [
       "{'rouge-1': {'r': 0.17006802721088435,\n",
       "  'p': 0.15822784810126583,\n",
       "  'f': 0.16393442123601196},\n",
       " 'rouge-2': {'r': 0.016666666666666666,\n",
       "  'p': 0.020202020202020204,\n",
       "  'f': 0.0182648352286246},\n",
       " 'rouge-l': {'r': 0.08163265306122448,\n",
       "  'p': 0.0759493670886076,\n",
       "  'f': 0.07868851959666788}}"
      ]
     },
     "execution_count": 57,
     "metadata": {},
     "output_type": "execute_result"
    }
   ],
   "source": [
    "# Using ROUGE metric for evaluation \n",
    "from rouge import Rouge \n",
    "model_out = \" \".join(bigrams_result)\n",
    "rouge = Rouge()\n",
    "rouge.get_scores(model_out, reference, avg=True)"
   ]
  },
  {
   "cell_type": "code",
   "execution_count": null,
   "id": "8b560cf4",
   "metadata": {},
   "outputs": [
    {
     "data": {
      "text/plain": [
       "[{'rouge-1': {'r': 0.14965986394557823,\n",
       "   'p': 0.16417910447761194,\n",
       "   'f': 0.1565836249039401},\n",
       "  'rouge-2': {'r': 0.0, 'p': 0.0, 'f': 0.0},\n",
       "  'rouge-l': {'r': 0.07482993197278912,\n",
       "   'p': 0.08208955223880597,\n",
       "   'f': 0.07829180995732103}}]"
      ]
     },
     "execution_count": 58,
     "metadata": {},
     "output_type": "execute_result"
    }
   ],
   "source": [
    "rouge = Rouge()\n",
    "rouge.get_scores(\" \".join(trigrams_result), reference)"
   ]
  },
  {
   "cell_type": "code",
   "execution_count": null,
   "id": "cdbc5f24",
   "metadata": {},
   "outputs": [
    {
     "data": {
      "text/plain": [
       "[{'rouge-1': {'r': 0.013605442176870748,\n",
       "   'p': 0.6666666666666666,\n",
       "   'f': 0.026666666274666666},\n",
       "  'rouge-2': {'r': 0.0, 'p': 0.0, 'f': 0.0},\n",
       "  'rouge-l': {'r': 0.013605442176870748,\n",
       "   'p': 0.6666666666666666,\n",
       "   'f': 0.026666666274666666}}]"
      ]
     },
     "execution_count": 59,
     "metadata": {},
     "output_type": "execute_result"
    }
   ],
   "source": [
    "rouge = Rouge()\n",
    "rouge.get_scores(\" \".join(quadgrams_result), reference)"
   ]
  },
  {
   "cell_type": "code",
   "execution_count": null,
   "id": "e8ae41ad",
   "metadata": {},
   "outputs": [
    {
     "data": {
      "text/plain": [
       "[{'rouge-1': {'r': 0.013605442176870748, 'p': 0.25, 'f': 0.025806450633923034},\n",
       "  'rouge-2': {'r': 0.0, 'p': 0.0, 'f': 0.0},\n",
       "  'rouge-l': {'r': 0.006802721088435374,\n",
       "   'p': 0.125,\n",
       "   'f': 0.012903224827471457}}]"
      ]
     },
     "execution_count": 60,
     "metadata": {},
     "output_type": "execute_result"
    }
   ],
   "source": [
    "rouge = Rouge()\n",
    "rouge.get_scores(song, reference)"
   ]
  }
 ],
 "metadata": {
  "interpreter": {
   "hash": "a258e3ff9817ac02e8390eaf7df0c0b9d2028ee27a8347a1cfd262aa9456a1fe"
  },
  "kernelspec": {
   "display_name": "Python 3.9.7 64-bit",
   "language": "python",
   "name": "python3"
  },
  "language_info": {
   "codemirror_mode": {
    "name": "ipython",
    "version": 3
   },
   "file_extension": ".py",
   "mimetype": "text/x-python",
   "name": "python",
   "nbconvert_exporter": "python",
   "pygments_lexer": "ipython3",
   "version": "3.9.7"
  }
 },
 "nbformat": 4,
 "nbformat_minor": 5
}
